{
 "cells": [
  {
   "cell_type": "code",
   "execution_count": 2,
   "metadata": {},
   "outputs": [
    {
     "name": "stderr",
     "output_type": "stream",
     "text": [
      "13it [00:13,  1.06s/it]\n"
     ]
    },
    {
     "data": {
      "text/plain": [
       "MDataFrame(collection=omegaml.data_.tripdata.datastore, columns=['Unnamed: 0', 'X', 'VendorID', 'tpep_pickup_datetime', 'tpep_dropoff_datetime', 'passenger_count', 'trip_distance', 'pickup_longitude', 'pickup_latitude', 'RateCodeID', 'store_and_fwd_flag', 'dropoff_longitude', 'dropoff_latitude', 'payment_type', 'fare_amount', 'extra', 'mta_tax', 'tip_amount', 'tolls_amount', 'total_amount'], sort_order=None, limit=None, skip=None, from_loc_indexer=False, immediate_loc=False, query={}, auto_inspect=False, preparefn=None, is_from_facet=False, index_columns=[], cache=<omegaml.mixins.mdf.apply.ApplyCache object at 0x7f2b1016b860>, apply_fn=None)"
      ]
     },
     "execution_count": 2,
     "metadata": {},
     "output_type": "execute_result"
    }
   ],
   "source": [
    "import omegaml as om\n",
    "\n",
    "url_tripdata = 'https://raw.githubusercontent.com/tejaykodali/taxiTrips/master/tripData.csv'\n",
    "om.datasets.read_csv(url_tripdata, 'tripdata')"
   ]
  }
 ],
 "metadata": {
  "kernelspec": {
   "display_name": "Python 3",
   "language": "python",
   "name": "python3"
  },
  "language_info": {
   "codemirror_mode": {
    "name": "ipython",
    "version": 3
   },
   "file_extension": ".py",
   "mimetype": "text/x-python",
   "name": "python",
   "nbconvert_exporter": "python",
   "pygments_lexer": "ipython3",
   "version": "3.6.10"
  }
 },
 "nbformat": 4,
 "nbformat_minor": 2
}
