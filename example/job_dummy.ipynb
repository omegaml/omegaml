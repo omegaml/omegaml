{
 "cells": [
  {
   "cell_type": "code",
   "execution_count": null,
   "metadata": {},
   "outputs": [],
   "source": [
    "\n",
    "        # omegaml.script:\n",
    "        #   run-at: \"*/5 * * * *\"\n",
    "        #   results-store: gridfs\n",
    "        #   author: exsys@nixify.com\n",
    "        #   name: Gaurav Ghimire\n",
    "        "
   ]
  },
  {
   "cell_type": "code",
   "execution_count": null,
   "metadata": {},
   "outputs": [],
   "source": [
    "print 'hello'"
   ]
  }
 ],
 "metadata": {},
 "nbformat": 4,
 "nbformat_minor": 0
}
