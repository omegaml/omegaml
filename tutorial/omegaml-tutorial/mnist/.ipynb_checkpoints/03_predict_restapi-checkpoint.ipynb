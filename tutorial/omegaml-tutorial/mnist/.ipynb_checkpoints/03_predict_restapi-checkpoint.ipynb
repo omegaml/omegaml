{
 "cells": [
  {
   "cell_type": "code",
   "execution_count": 38,
   "id": "17ac389d-8776-4779-a455-5678d264eaae",
   "metadata": {},
   "outputs": [],
   "source": [
    "import warnings\n",
    "import os\n",
    "os.environ.pop('DJANGO_SETTINGS_MODULE', '') \n",
    "os.environ['INPROGRESS'] = '0'\n",
    "warnings.filterwarnings(\"ignore\")"
   ]
  },
  {
   "cell_type": "code",
   "execution_count": 39,
   "id": "9bdc03ef-ba20-48f2-b58d-23546de24268",
   "metadata": {},
   "outputs": [
    {
     "data": {
      "text/plain": [
       "{'model': 'mnist', 'result': [1], 'resource_uri': 'mnist'}"
      ]
     },
     "execution_count": 39,
     "metadata": {},
     "output_type": "execute_result"
    }
   ],
   "source": [
    "import omegaml as om \n",
    "from omegaml.client.auth import AuthenticationEnv\n",
    "import requests\n",
    "\n",
    "apiurl = getattr(om.defaults, 'OMEGA_RESTAPI_URL') or \"http://localhost:5000/\"\n",
    "serviceuri = 'api/v1/model'\n",
    "model = 'mnist'\n",
    "image = [0,0,0,0,0,0,0,0,0,0,1,0,0,16,0,0,0,0,0,0,0,0,0,0,16,0,0,0,0,0,16,0,16,0,0,0,0,0,16,0,0,0,0,0,0,0,16,0,0,16,0,0,0,0,0,0,0,0,0,0,0,0,0,0]\n",
    "auth = AuthenticationEnv.active().get_restapi_auth(defaults=om.defaults)\n",
    "\n",
    "data = {\n",
    "    \"columns\": [\"X\"],\n",
    "     \"data\": {\n",
    "         'X': [image],\n",
    "     },\n",
    "    \"shape\": [len(image)]\n",
    "}\n",
    "\n",
    "resp = requests.put(f'{apiurl}/{serviceuri}/{model}/predict',\n",
    "            json=data, auth=auth)\n",
    "resp.json()"
   ]
  }
 ],
 "metadata": {
  "kernelspec": {
   "display_name": "Python 3 (ipykernel)",
   "language": "python",
   "name": "python3"
  },
  "language_info": {
   "codemirror_mode": {
    "name": "ipython",
    "version": 3
   },
   "file_extension": ".py",
   "mimetype": "text/x-python",
   "name": "python",
   "nbconvert_exporter": "python",
   "pygments_lexer": "ipython3",
   "version": "3.10.14"
  }
 },
 "nbformat": 4,
 "nbformat_minor": 5
}
