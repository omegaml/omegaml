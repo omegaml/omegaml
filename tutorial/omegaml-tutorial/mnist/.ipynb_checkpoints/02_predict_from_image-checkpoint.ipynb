{
 "cells": [
  {
   "cell_type": "code",
   "execution_count": 6,
   "id": "abf664d0-7dad-4e56-bf1b-50f3b187924f",
   "metadata": {},
   "outputs": [],
   "source": [
    "import omegaml as om \n",
    "\n",
    "clf = om.models.get('mnist')"
   ]
  },
  {
   "cell_type": "code",
   "execution_count": 7,
   "id": "7d6d0238-af12-438f-ad20-99cfbc5293f7",
   "metadata": {},
   "outputs": [],
   "source": [
    "# use the grid.html to get user input\n",
    "X = [0,0,0,0,0,0,0,0,0,0,16,16,16,16,0,0,0,0,16,0,0,16,0,0,0,0,16,16,7,16,0,0,0,0,0,15,16,16,0,0,0,0,16,16,1,16,0,0,0,0,16,16,16,16,0,0,0,0,0,3,3,0,0,0]"
   ]
  },
  {
   "cell_type": "code",
   "execution_count": 8,
   "id": "fb618491-00ef-473d-9217-52f5ec6e5eb6",
   "metadata": {},
   "outputs": [
    {
     "data": {
      "text/plain": [
       "array([8])"
      ]
     },
     "execution_count": 8,
     "metadata": {},
     "output_type": "execute_result"
    }
   ],
   "source": [
    "clf.predict([X])"
   ]
  },
  {
   "cell_type": "code",
   "execution_count": 9,
   "id": "cb8d3e67-e296-4623-b99f-29c4a85e245d",
   "metadata": {},
   "outputs": [
    {
     "data": {
      "text/plain": [
       "array([8])"
      ]
     },
     "execution_count": 9,
     "metadata": {},
     "output_type": "execute_result"
    }
   ],
   "source": [
    "result = om.runtime.model('mnist').predict([X])\n",
    "result.get()"
   ]
  }
 ],
 "metadata": {
  "kernelspec": {
   "display_name": "Python 3 (ipykernel)",
   "language": "python",
   "name": "python3"
  },
  "language_info": {
   "codemirror_mode": {
    "name": "ipython",
    "version": 3
   },
   "file_extension": ".py",
   "mimetype": "text/x-python",
   "name": "python",
   "nbconvert_exporter": "python",
   "pygments_lexer": "ipython3",
   "version": "3.10.14"
  }
 },
 "nbformat": 4,
 "nbformat_minor": 5
}
