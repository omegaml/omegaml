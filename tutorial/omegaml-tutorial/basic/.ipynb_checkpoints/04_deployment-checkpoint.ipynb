{
 "cells": [
  {
   "cell_type": "code",
   "execution_count": 8,
   "id": "bde86351-a8f8-4257-ad03-859369b852af",
   "metadata": {},
   "outputs": [],
   "source": [
    "import warnings\n",
    "import os\n",
    "os.environ.pop('DJANGO_SETTINGS_MODULE', '') \n",
    "os.environ['INPROGRESS'] = '0'\n",
    "warnings.filterwarnings(\"ignore\")"
   ]
  },
  {
   "cell_type": "code",
   "execution_count": 9,
   "id": "36271b00-1b14-4dae-a78e-0f21dbade77e",
   "metadata": {},
   "outputs": [
    {
     "name": "stdout",
     "output_type": "stream",
     "text": [
      "models/regmodel\n",
      "regmodel\n"
     ]
    }
   ],
   "source": [
    "!om runtime export models/regmodel --path regmodel"
   ]
  },
  {
   "cell_type": "code",
   "execution_count": 10,
   "id": "fe9d49fb-a25f-42d6-8b5e-34a64d65195b",
   "metadata": {},
   "outputs": [
    {
     "name": "stdout",
     "output_type": "stream",
     "text": [
      "regmodel\n",
      "regmodel/models\n",
      "regmodel/models/43e1df9508b39c3acd2f112d1d5a4a394c72c0fc\n",
      "regmodel/models/43e1df9508b39c3acd2f112d1d5a4a394c72c0fc/metadata.json\n",
      "regmodel/models/43e1df9508b39c3acd2f112d1d5a4a394c72c0fc/gridfile.bin\n",
      "regmodel/models/ed7bee77b9fc078948c3282daeb8aa1767fc4812\n",
      "regmodel/models/ed7bee77b9fc078948c3282daeb8aa1767fc4812/metadata.json\n",
      "regmodel/models/ed7bee77b9fc078948c3282daeb8aa1767fc4812/gridfile.bin\n",
      "regmodel/manifest.json\n"
     ]
    }
   ],
   "source": [
    "!find regmodel"
   ]
  },
  {
   "cell_type": "code",
   "execution_count": 11,
   "id": "15e09c6a-9e81-4c58-8b9f-9fc778e268ff",
   "metadata": {},
   "outputs": [
    {
     "name": "stdout",
     "output_type": "stream",
     "text": [
      "Processing regmodel\n",
      "models/regmodel\n",
      "models/regmodel@latest\n",
      "Imported objects:\n",
      "[<Metadata: Metadata(name=regmodel,bucket=omegaml,prefix=models/,kind=sklearn.joblib,created=2024-11-27 12:06:25.325000)>, <Metadata: Metadata(name=regmodel,bucket=omegaml,prefix=models/,kind=sklearn.joblib,created=2024-11-27 12:06:25.351000)>]\n"
     ]
    }
   ],
   "source": [
    "!om runtime import --path regmodel"
   ]
  }
 ],
 "metadata": {
  "kernelspec": {
   "display_name": "Python 3 (ipykernel)",
   "language": "python",
   "name": "python3"
  },
  "language_info": {
   "codemirror_mode": {
    "name": "ipython",
    "version": 3
   },
   "file_extension": ".py",
   "mimetype": "text/x-python",
   "name": "python",
   "nbconvert_exporter": "python",
   "pygments_lexer": "ipython3",
   "version": "3.10.14"
  }
 },
 "nbformat": 4,
 "nbformat_minor": 5
}
