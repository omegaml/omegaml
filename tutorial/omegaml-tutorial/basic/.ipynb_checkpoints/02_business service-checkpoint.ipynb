{
 "cells": [
  {
   "cell_type": "code",
   "execution_count": 79,
   "id": "b1e22219-4b2a-4a5e-ae3f-1d72ec0dd57f",
   "metadata": {},
   "outputs": [],
   "source": [
    "import warnings\n",
    "import os\n",
    "os.environ.pop('DJANGO_SETTINGS_MODULE', '') \n",
    "os.environ['INPROGRESS'] = '0'\n",
    "warnings.filterwarnings(\"ignore\")"
   ]
  },
  {
   "cell_type": "code",
   "execution_count": 80,
   "id": "83463c54-6c73-4286-9178-f7be42217749",
   "metadata": {},
   "outputs": [],
   "source": [
    "import omegaml as om"
   ]
  },
  {
   "cell_type": "markdown",
   "id": "7a3d5f5d-1106-46de-88f0-6510f377b343",
   "metadata": {},
   "source": [
    "# Creating a business service\n",
    "\n",
    "In a corporate setting our ML models will be used by other software applications.\n",
    "Say, our price prediction model will be used to by a real estate web portal.\n",
    "\n",
    "It will pass in the features in this JSON format\n",
    "\n",
    "```\n",
    "{ rooms: <int> }\n",
    "```\n",
    "\n",
    "and expect a result like this\n",
    "\n",
    "```\n",
    "{ price: <float> }\n",
    "```\n",
    "\n",
    "[Note] \n",
    "\n",
    "    For a more complex model, there may be additional input data provided. Some of this data may be a reference to a database, not the actual features we need for the model. For example, it is common that business services provide the customer id, yet our model needs features related to this customer, not the customer id itself. \n",
    "    \n",
    "    It is good engineering practice to keep the details of feature retrieval and processing inside the model service, and not expose every application to this complexity. This increases our flexibility when we have to change the model, e.g. change the feature set or a feature's encoding. \n",
    "    \n",
    "    Therefore, not exposing the feature and target details of our model is a key reason why we need business services."
   ]
  },
  {
   "cell_type": "markdown",
   "id": "043853c1-ed9e-453f-bbaa-4e4b5a6a3511",
   "metadata": {},
   "source": [
    "## Service implementation\n",
    "\n",
    "Let's now implement our service:\n",
    "\n",
    "* a python function that accepts `data=...` as a kwarg\n",
    "* the data should be passed as *a list* of one or more dictionaries in the format above (i.e. `[{ \"rooms\": <int>}])`\n",
    "* the function should return a result in the format above (i.e. `{ \"price\": <float> })`\n",
    "\n",
    "To calculate the price, the function will just load our prediction model *regmodel*,\n",
    "and pass it the number of rooms as a single feature.\n",
    "\n",
    "\n",
    "Note that the the python function must decorated as *virtualobj*. The *virtualobj* decorator is just a way to tell omega-ml that our function should be callable from the runtime."
   ]
  },
  {
   "cell_type": "code",
   "execution_count": 76,
   "id": "8d525b02-1654-40ae-96b3-a5a80d140625",
   "metadata": {},
   "outputs": [],
   "source": [
    "from omegaml.backends.virtualobj import virtualobj\n",
    "\n",
    "@virtualobj\n",
    "def myservice(data=None, **kwargs):\n",
    "    import omegaml as om # all dependencies must be imported *inside* the function. No global variables are allowed\n",
    "    x = data[0].get('rooms')\n",
    "    reg = om.models.get('regmodel')\n",
    "    y = reg.predict([[x]])\n",
    "    return {'price': y}"
   ]
  },
  {
   "cell_type": "code",
   "execution_count": 77,
   "id": "d3cda8e2-c164-405d-bf85-8be8269b8c5f",
   "metadata": {},
   "outputs": [
    {
     "data": {
      "text/plain": [
       "{'price': array([10.70064041])}"
      ]
     },
     "execution_count": 77,
     "metadata": {},
     "output_type": "execute_result"
    }
   ],
   "source": [
    "myservice(data=[{'rooms': 5}])"
   ]
  },
  {
   "cell_type": "markdown",
   "id": "8804f948-3bb0-4e5f-ba47-5ecca6dc60e6",
   "metadata": {},
   "source": [
    "## Save the service to the registry\n",
    "\n",
    "We can now save our *myservice* function to the model registry.\n",
    "This works the same way as when we stored the *regmodel* - i.e. a Metadata entry is created.\n",
    "\n",
    "Note that the *kind* of now indicates that this is, indeed, a *virtualobj*"
   ]
  },
  {
   "cell_type": "code",
   "execution_count": 78,
   "id": "5c0f5f0c-cfb5-4bfd-af73-4a5882b2bbd4",
   "metadata": {},
   "outputs": [
    {
     "data": {
      "text/plain": [
       "<Metadata: Metadata(name=myservice,bucket=omegaml,prefix=models/,kind=virtualobj.dill,created=2024-11-27 11:39:33.327129)>"
      ]
     },
     "execution_count": 78,
     "metadata": {},
     "output_type": "execute_result"
    }
   ],
   "source": [
    "om.models.put(myservice, 'myservice', replace=True)"
   ]
  },
  {
   "cell_type": "markdown",
   "id": "94d017b8-36fc-4729-baad-f0f529209a8f",
   "metadata": {},
   "source": [
    "### Call the service in Python\n",
    "\n",
    "Now we can call our *myservice* function using a proxy model to the runtime, in the same way that we previously called the *regmodel*.\n",
    "\n",
    "[Note]\n",
    "\n",
    "    We now pass a single dictionary, instead of a list of values (as with the regmodel). This is because the runtime actually converts everything that we pass in into a list of objects. When we previously passed [5] it actually sent [[5]] to the model. \n",
    "    \n",
    "    The reason for this is that most models expect a list of input samples, whereby each row is a list of features,\n",
    "    i.e. [[5]] really means \"1 sample with 1 feature\". While virtualobj functions don't have this technical limitation,\n",
    "    they work the same way as other models. "
   ]
  },
  {
   "cell_type": "code",
   "execution_count": 63,
   "id": "1b70afdc-ea6c-4ca2-b122-57419a94162c",
   "metadata": {},
   "outputs": [
    {
     "data": {
      "text/plain": [
       "{'price': array([10.70064041])}"
      ]
     },
     "execution_count": 63,
     "metadata": {},
     "output_type": "execute_result"
    }
   ],
   "source": [
    "model = om.runtime.model('myservice')\n",
    "result = model.predict({'rooms': 5})\n",
    "result.get()"
   ]
  },
  {
   "cell_type": "markdown",
   "id": "41386e4d-7e31-4bfb-a875-be66d8a388c0",
   "metadata": {},
   "source": [
    "## Define a business service API\n",
    "\n",
    "When we define a business API like this, client applications need to know\n",
    "how to call the service. For this we can specify a so-called Swagger API, also known as an OpenAPI specification.\n",
    "\n",
    "In essence, a Swagger API provides the details of our service's input and output format\n",
    "in a machine readable way. Client applications can then automatically generate a stub\n",
    "to call this service, and don't have to program all the details themselves.\n",
    "\n",
    "We do this by \n",
    "\n",
    "1. specifying the input and output schemas (a schema lists the expected fields and types)\n",
    "2. linking the input and output schemas to the model\n",
    "3. generating a swagger specification\n",
    "\n"
   ]
  },
  {
   "cell_type": "code",
   "execution_count": 64,
   "id": "d8877f35-2348-49ef-9ddf-002f707dbe20",
   "metadata": {},
   "outputs": [
    {
     "data": {
      "text/plain": [
       "<Metadata: Metadata(name=myservice,bucket=omegaml,prefix=models/,kind=virtualobj.dill,created=2024-11-27 11:20:21.409000)>"
      ]
     },
     "execution_count": 64,
     "metadata": {},
     "output_type": "execute_result"
    }
   ],
   "source": [
    "from marshmallow import Schema, fields\n",
    "\n",
    "class MyServiceInput(Schema):\n",
    "    rooms = fields.Integer()\n",
    "\n",
    "class MyServiceOutput(Schema):\n",
    "    price = fields.Integer()\n",
    "\n",
    "om.models.link_datatype('myservice', X=MyServiceInput, Y=MyServiceOutput)"
   ]
  },
  {
   "cell_type": "code",
   "execution_count": 65,
   "id": "098fe3b5-a221-41ec-bc90-189666b6bf28",
   "metadata": {},
   "outputs": [
    {
     "name": "stdout",
     "output_type": "stream",
     "text": [
      "definitions:\n",
      "  myservice_400:\n",
      "    properties:\n",
      "      message:\n",
      "        type: string\n",
      "    type: object\n",
      "  myservice_X:\n",
      "    properties:\n",
      "      rooms:\n",
      "        type: integer\n",
      "    type: object\n",
      "  myservice_Y:\n",
      "    properties:\n",
      "      price:\n",
      "        type: integer\n",
      "    type: object\n",
      "info:\n",
      "  title: omega-ml service\n",
      "  version: 1.0.0\n",
      "paths:\n",
      "  /api/service/myservice:\n",
      "    post:\n",
      "      consumes:\n",
      "      - application/json\n",
      "      description: no description\n",
      "      operationId: myservice#predict#post\n",
      "      parameters:\n",
      "      - description: no description\n",
      "        in: body\n",
      "        name: body\n",
      "        schema:\n",
      "          $ref: '#/definitions/myservice_X'\n",
      "      produces:\n",
      "      - application/json\n",
      "      responses:\n",
      "        '200':\n",
      "          description: no description\n",
      "          schema:\n",
      "            $ref: '#/definitions/myservice_Y'\n",
      "        '400':\n",
      "          description: no description\n",
      "          schema:\n",
      "            $ref: '#/definitions/myservice_400'\n",
      "      summary: summary\n",
      "swagger: '2.0'\n",
      "\n"
     ]
    }
   ],
   "source": [
    "print(om.runtime.swagger('myservice', as_service=True))"
   ]
  },
  {
   "cell_type": "code",
   "execution_count": 82,
   "id": "b59b19b3-8b27-4daf-9a04-f1c45b1b58aa",
   "metadata": {},
   "outputs": [
    {
     "data": {
      "text/plain": [
       "{'price': [10.600943299205767]}"
      ]
     },
     "execution_count": 82,
     "metadata": {},
     "output_type": "execute_result"
    }
   ],
   "source": [
    "import requests\n",
    "\n",
    "import omegaml as om\n",
    "from omegaml.client.auth import AuthenticationEnv\n",
    "\n",
    "apiurl = getattr(om.defaults, 'OMEGA_RESTAPI_URL') or \"http://localhost:5000/\"\n",
    "serviceuri = 'api/service'\n",
    "auth = AuthenticationEnv.active().get_restapi_auth(defaults=om.defaults)\n",
    "model = 'myservice'\n",
    "\n",
    "data = {\n",
    "    'rooms': 5,\n",
    "}\n",
    "auth = AuthenticationEnv.active().get_restapi_auth(defaults=om.defaults)\n",
    "\n",
    "resp = requests.put(f'{apiurl}/{serviceuri}/{model}/',\n",
    "            json=data, auth=auth)\n",
    "resp.json()"
   ]
  },
  {
   "cell_type": "markdown",
   "id": "156ab960-3c1a-48cf-ab3e-eb58aae4e830",
   "metadata": {},
   "source": [
    "## Define nested outputs\n",
    "\n",
    "We may want to output multiple results, instead of just one.\n",
    "\n",
    "Say we receive as inputs a list of rooms, instead of a single one.\n",
    "Then we want to output a list of results.\n",
    "\n",
    "In this case we need to define an output schema that accepts a list."
   ]
  },
  {
   "cell_type": "code",
   "execution_count": 67,
   "id": "ecbe548b-dd38-4d52-8abd-136450f99a0b",
   "metadata": {},
   "outputs": [
    {
     "name": "stdout",
     "output_type": "stream",
     "text": [
      "definitions:\n",
      "  EmptyX:\n",
      "    properties: {}\n",
      "    type: object\n",
      "  PredictInput_mymodel:\n",
      "    properties:\n",
      "      columns:\n",
      "        items:\n",
      "          type: string\n",
      "        type: array\n",
      "      data:\n",
      "        items:\n",
      "          $ref: '#/definitions/EmptyX'\n",
      "        type: array\n",
      "      shape:\n",
      "        items:\n",
      "          type: integer\n",
      "        type: array\n",
      "    type: object\n",
      "  PredictOutput_mymodel:\n",
      "    properties:\n",
      "      model:\n",
      "        type: string\n",
      "      resource_uri:\n",
      "        type: string\n",
      "      result:\n",
      "        $ref: '#/definitions/mymodel_Y'\n",
      "    type: object\n",
      "  mymodel_400:\n",
      "    properties:\n",
      "      message:\n",
      "        type: string\n",
      "    type: object\n",
      "  mymodel_Y:\n",
      "    properties:\n",
      "      result:\n",
      "        items:\n",
      "          $ref: '#/definitions/mymodel_schema_data_X'\n",
      "        type: array\n",
      "    type: object\n",
      "  mymodel_schema_data_X:\n",
      "    properties:\n",
      "      name:\n",
      "        type: string\n",
      "    type: object\n",
      "info:\n",
      "  title: omega-ml service\n",
      "  version: 1.0.0\n",
      "paths:\n",
      "  /api/v1/model/mymodel/predict:\n",
      "    post:\n",
      "      consumes:\n",
      "      - application/json\n",
      "      description: no description\n",
      "      operationId: mymodel#predict#post\n",
      "      parameters:\n",
      "      - description: no description\n",
      "        in: body\n",
      "        name: body\n",
      "        schema:\n",
      "          $ref: '#/definitions/PredictInput_mymodel'\n",
      "      produces:\n",
      "      - application/json\n",
      "      responses:\n",
      "        '200':\n",
      "          description: no description\n",
      "          schema:\n",
      "            $ref: '#/definitions/PredictOutput_mymodel'\n",
      "        '400':\n",
      "          description: no description\n",
      "          schema:\n",
      "            $ref: '#/definitions/mymodel_400'\n",
      "      summary: summary\n",
      "swagger: '2.0'\n",
      "\n"
     ]
    }
   ],
   "source": [
    "# definitions\n",
    "from omegaml.runtimes.mixins.swagger import SwaggerGenerator\n",
    "\n",
    "class PersonSchema(Schema):\n",
    "    name = fields.String()\n",
    "class ResultSchema(Schema):\n",
    "    result = fields.List(fields.Dict()) # equiv. fields.List(fields.Nested(PersonSchema))\n",
    "\n",
    "om.models.put({}, 'mymodel')\n",
    "om.models.put({}, 'mymodel/schema/data')\n",
    "om.models.link_datatype('mymodel', Y=ResultSchema)\n",
    "om.models.link_datatype('mymodel/schema/data', X=PersonSchema)\n",
    "# build combined swagger spec\n",
    "from omegaml.runtimes import OmegaRuntime\n",
    "OmegaRuntime.swagger_combined = SwaggerGenerator.combine_swagger\n",
    "swagger = om.runtime.swagger_combined('mymodel',\n",
    "                    patches=['mymodel_Y#result'],\n",
    "                    sources=['mymodel/schema/data#mymodel_schema_data_X'])\n",
    "print(swagger)"
   ]
  }
 ],
 "metadata": {
  "kernelspec": {
   "display_name": "Python 3 (ipykernel)",
   "language": "python",
   "name": "python3"
  },
  "language_info": {
   "codemirror_mode": {
    "name": "ipython",
    "version": 3
   },
   "file_extension": ".py",
   "mimetype": "text/x-python",
   "name": "python",
   "nbconvert_exporter": "python",
   "pygments_lexer": "ipython3",
   "version": "3.10.14"
  }
 },
 "nbformat": 4,
 "nbformat_minor": 5
}
